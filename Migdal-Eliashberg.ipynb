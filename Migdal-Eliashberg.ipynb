{
 "cells": [
  {
   "cell_type": "code",
   "execution_count": 6,
   "metadata": {},
   "outputs": [],
   "source": [
    "# Imports \n",
    "%matplotlib inline\n",
    "from pytriqs.lattice import BravaisLattice, BrillouinZone\n",
    "from pytriqs.gf import *\n",
    "from pytriqs.archive import HDFArchive\n",
    "from pytriqs.plot.mpl_interface import oplot\n",
    "import numpy as np\n",
    "from math import cos, pi\n",
    "import warnings \n",
    "warnings.filterwarnings(\"ignore\")\n",
    "import matplotlib.pyplot as plt\n",
    "plt.rcParams[\"figure.figsize\"] = (12,9) # set default size for all figures"
   ]
  },
  {
   "cell_type": "code",
   "execution_count": 242,
   "metadata": {},
   "outputs": [],
   "source": [
    "beta=20\n",
    "n_iw=1024\n",
    "w_ph=0.1\n",
    "U=0.1\n",
    "half_bandwidth=2\n",
    "lambda_0=2*U/w_ph/half_bandwidth"
   ]
  },
  {
   "cell_type": "code",
   "execution_count": 243,
   "metadata": {},
   "outputs": [
    {
     "data": {
      "text/plain": [
       "1.0"
      ]
     },
     "execution_count": 243,
     "metadata": {},
     "output_type": "execute_result"
    }
   ],
   "source": [
    "lambda_0"
   ]
  },
  {
   "cell_type": "code",
   "execution_count": 244,
   "metadata": {},
   "outputs": [
    {
     "data": {
      "application/javascript": [
       "\n",
       "require(['notebook/js/codecell'], function(codecell) {\n",
       "  codecell.CodeCell.options_default.highlight_modes['text/x-c++src'] = {'reg':[/^%%cpp2py/]};\n",
       "  Jupyter.notebook.events.one('kernel_ready.Kernel', function(){\n",
       "      Jupyter.notebook.get_cells().map(function(cell){\n",
       "          if (cell.cell_type == 'code'){ cell.auto_highlight(); } }) ;\n",
       "  });\n",
       "});\n"
      ]
     },
     "metadata": {},
     "output_type": "display_data"
    }
   ],
   "source": [
    "%reload_ext cpp2py.magic"
   ]
  },
  {
   "cell_type": "code",
   "execution_count": 245,
   "metadata": {},
   "outputs": [],
   "source": [
    "%%cpp2py -C pytriqs\n",
    "#include <triqs/gfs.hpp>\n",
    "using namespace triqs::gfs;\n",
    "        \n",
    "gf_view<imfreq, scalar_valued> bubble(gf_view<imfreq, scalar_valued> g0) {\n",
    "    auto gt = make_gf_from_fourier<0>(g0);\n",
    "    auto mt = gt.mesh();\n",
    "    double beta = mt.domain().beta;\n",
    "    auto mtb = gf_mesh<imtime>{beta, Boson, mt.size()};\n",
    "    auto chi0 = gf_view<imtime, scalar_valued>{mtb};\n",
    "    for (auto const&t : mtb) \n",
    "        chi0[t] = 2*gt(beta - t) * gt(t); \n",
    "    return make_gf_from_fourier<0>(chi0);\n",
    "}\n",
    "\n",
    "gf_view<imfreq, scalar_valued>  ME_sigma(gf_view<imfreq, scalar_valued>  g, \n",
    "                                         gf_view<imfreq, scalar_valued>  d) {\n",
    "    auto gt = make_gf_from_fourier<0>(g);\n",
    "    auto dt = make_gf_from_fourier<0>(d);\n",
    "    auto mt = gt.mesh();\n",
    "    double beta = mt.domain().beta;\n",
    "    auto sigma = gf_view<imtime, scalar_valued> {mt};\n",
    "    for (auto const &t : mt) \n",
    "        sigma[t] = -gt(beta - t) * dt(t); \n",
    "    return make_gf_from_fourier<0>(sigma);\n",
    "}"
   ]
  },
  {
   "cell_type": "code",
   "execution_count": 246,
   "metadata": {},
   "outputs": [],
   "source": [
    "g0=GfImFreq(name=r'$G_0$', beta=beta, statistic='Fermion', n_points=n_iw, target_shape=[])\n",
    "g=GfImFreq(name=r'$G$', beta=beta, statistic='Fermion', n_points=n_iw, target_shape=[])\n",
    "sigma=GfImFreq(name=r'$\\Sigma$', beta=beta, statistic='Fermion', n_points=n_iw, target_shape=[])\n",
    "\n",
    "d0=GfImFreq(name=r'$D_0$', beta=beta, statistic='Boson', n_points=n_iw, target_shape=[])\n",
    "d=GfImFreq(name=r'$D$', beta=beta, statistic='Boson', n_points=n_iw, target_shape=[])\n",
    "p0=GfImFreq(name=r'$P_0$', beta=beta, statistic='Boson', n_points=n_iw, target_shape=[])"
   ]
  },
  {
   "cell_type": "code",
   "execution_count": null,
   "metadata": {},
   "outputs": [],
   "source": [
    "g0 << SemiCircular(half_bandwidth)\n",
    "g << SemiCircular(half_bandwidth)\n",
    "for iwm in d0.mesh:d0[iwm] = 2.0*w_ph / (iwm.value**2-w_ph**2)\n",
    "n_iter=10\n",
    "for i in range(n_iter):\n",
    "    d<<inverse(inverse(d0)-U*bubble(g))\n",
    "    g<<inverse(inverse(g0)-U*ME_sigma(g,d))"
   ]
  },
  {
   "cell_type": "code",
   "execution_count": 241,
   "metadata": {},
   "outputs": [
    {
     "data": {
      "image/png": "[encoded data removed]",
      "text/plain": [
       "<Figure size 432x288 with 1 Axes>"
      ]
     },
     "metadata": {
      "needs_background": "light"
     },
     "output_type": "display_data"
    }
   ],
   "source": [
    "greal0 = GfReFreq(target_shape=[], window = (-6.0,6.0), n_points = 601)\n",
    "greal = GfReFreq(target_shape=[], window = (-6.0,6.0), n_points = 601)\n",
    "greal.set_from_pade(g,freq_offset = 0.1)\n",
    "greal0.set_from_pade(g0,freq_offset = 0.1)\n",
    "oplot(greal,mode='S')\n",
    "oplot(greal0,mode='S')\n",
    "plt.grid()\n",
    "# plt.xlim([0,1])"
   ]
  },
  {
   "cell_type": "code",
   "execution_count": 236,
   "metadata": {},
   "outputs": [
    {
     "data": {
      "text/plain": [
       "(0, 1)"
      ]
     },
     "execution_count": 236,
     "metadata": {},
     "output_type": "execute_result"
    },
    {
     "data": {
      "image/png": "[encoded data removed]",
      "text/plain": [
       "<Figure size 432x288 with 1 Axes>"
      ]
     },
     "metadata": {
      "needs_background": "light"
     },
     "output_type": "display_data"
    }
   ],
   "source": [
    "greal0 = GfReFreq(target_shape=[], window = (-3.0,3.0), n_points = 600)\n",
    "greal = GfReFreq(target_shape=[], window = (-3.0,3.0), n_points = 600)\n",
    "greal.set_from_pade(d,freq_offset = 0.01)\n",
    "greal0.set_from_pade(d0,freq_offset = 0.01)\n",
    "oplot(greal,mode='S')\n",
    "oplot(greal0,mode='S')\n",
    "plt.grid()\n",
    "plt.xlim([0,1])\n",
    "# plt.ylim([0,None])"
   ]
  },
  {
   "cell_type": "code",
   "execution_count": 237,
   "metadata": {},
   "outputs": [],
   "source": [
    "g0_tau = GfImTime(target_shape=[], beta = beta)\n",
    "g_tau = GfImTime(target_shape=[], beta = beta)"
   ]
  },
  {
   "cell_type": "code",
   "execution_count": 238,
   "metadata": {},
   "outputs": [],
   "source": [
    "g0_tau.set_from_fourier(g0)\n",
    "g_tau.set_from_fourier(g)"
   ]
  },
  {
   "cell_type": "code",
   "execution_count": 239,
   "metadata": {},
   "outputs": [
    {
     "data": {
      "image/png": "[encoded data removed]",
      "text/plain": [
       "<Figure size 432x288 with 1 Axes>"
      ]
     },
     "metadata": {
      "needs_background": "light"
     },
     "output_type": "display_data"
    }
   ],
   "source": [
    "oplot(g0_tau.real)\n",
    "oplot(g_tau.real)"
   ]
  },
  {
   "cell_type": "code",
   "execution_count": null,
   "metadata": {},
   "outputs": [],
   "source": []
  },
  {
   "cell_type": "code",
   "execution_count": null,
   "metadata": {},
   "outputs": [],
   "source": []
  }
 ],
 "metadata": {
  "kernelspec": {
   "display_name": "Python 2",
   "language": "python",
   "name": "python2"
  },
  "language_info": {
   "codemirror_mode": {
    "name": "ipython",
    "version": 2
   },
   "file_extension": ".py",
   "mimetype": "text/x-python",
   "name": "python",
   "nbconvert_exporter": "python",
   "pygments_lexer": "ipython2",
   "version": "2.7.15"
  }
 },
 "nbformat": 4,
 "nbformat_minor": 2
}
